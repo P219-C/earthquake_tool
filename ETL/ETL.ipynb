{
 "cells": [
  {
   "cell_type": "markdown",
   "metadata": {},
   "source": [
    "# Database\n",
    "The following notebook build a sqlite database of approximately 9,000 earthquakes and ~200 countries. This db is later used to create 5 visualisations.\n",
    "\n",
    "The table **countries** has the following columns:\n",
    "\n",
    "1. Country Code\n",
    "2. Country Name\n",
    "3. Total Population (millions) ^\n",
    "4. Human Developmnet Index ^\n",
    "\n",
    "The table **earthquakes** was built using a GeoJSON file with information of every earthquake in the past 30 days. This dataset belongs to the United States Geological Survey (USGS)^^ and includes the following columns:\n",
    "1. USGS Earthquake ID\n",
    "2. Longitude\n",
    "3. Latitude\n",
    "4. Depth\n",
    "5. Timestamp\n",
    "6. Magnitude\n",
    "7. Country Code\n",
    "\n",
    "^ *Total Population* and *Human Development Index (HDI)* are values obtained from the *Human Development Report Office (HDRO)* (http://ec2-54-174-131-205.compute-1.amazonaws.com/API/Login.php). The HDRO offers an API for developers to query human development related data in JSON format. This dta is updated annually, upong the publication of the *global Human Development Report*\n",
    "\n",
    "^^ USGS - GeoJSON Summary Format: https://earthquake.usgs.gov/earthquakes/feed/v1.0/geojson.php\n",
    "\n",
    "Human development classification\n",
    "HDI classifications are based on HDI fixed cutoff points, which are derived from the quartiles of dis\n",
    "tributions of the component indicators. The cutoffpoints are HDI of less than 0.550 for low human development,\n",
    "0.550–0.699 for medium human development, 0.700–0.799 for high human development and 0.800 or greater \n",
    "for very high human development.\n",
    "Codes:\n",
    "44206 - Total Population (millions)\n",
    "137506 Human Development Index (HDI)"
   ]
  },
  {
   "cell_type": "markdown",
   "metadata": {},
   "source": [
    "## Part 1: Importing/requesting data\n",
    "Requesting json/geojson files from the HDRO and USGS."
   ]
  },
  {
   "cell_type": "code",
   "execution_count": 67,
   "metadata": {},
   "outputs": [],
   "source": [
    "import requests\n",
    "from pprintpp import pprint as pp\n",
    "import pandas as pd\n",
    "from datetime import datetime\n",
    "import matplotlib.pyplot as plt"
   ]
  },
  {
   "cell_type": "markdown",
   "metadata": {},
   "source": [
    "Defining years and indicators to retrieve from the HDRO"
   ]
  },
  {
   "cell_type": "code",
   "execution_count": 2,
   "metadata": {},
   "outputs": [],
   "source": [
    "# HDRO Indicators\n",
    "indicatorsHDRO = {\n",
    "    \"184306\": \"Number of deaths and missing persons attributed to disasters (per 100,000 population)\",\n",
    "    \"44206\": \"Total population (millions)\",\n",
    "    \"149406\": \"Homeless people due to natural disaster (average annual per million people)\",\n",
    "    \"194906\": \"GDP per capita (2017 PPP $)\"\n",
    "}"
   ]
  },
  {
   "cell_type": "code",
   "execution_count": 3,
   "metadata": {},
   "outputs": [
    {
     "name": "stdout",
     "output_type": "stream",
     "text": [
      "HDRO: <Response [200]>\n"
     ]
    }
   ],
   "source": [
    "urlHDRO = f\"http://ec2-54-174-131-205.compute-1.amazonaws.com/API/HDRO_API.php/indicator_id=184306,44206,149406,194906/year=2011\"\n",
    "response_HDRO = requests.get(urlHDRO)\n",
    "print(f\"HDRO: {response_HDRO}\")\n",
    "jsonHDRO = response_HDRO.json()\n",
    "# pp(jsonHDRO)"
   ]
  },
  {
   "cell_type": "markdown",
   "metadata": {},
   "source": [
    "Corroborating index 149406 (Homeless people due to natural disaster (average annual per million people)) is empty."
   ]
  },
  {
   "cell_type": "code",
   "execution_count": 4,
   "metadata": {},
   "outputs": [
    {
     "name": "stdout",
     "output_type": "stream",
     "text": [
      "HDRO: <Response [200]>\n",
      "[]\n"
     ]
    }
   ],
   "source": [
    "urlHDRO = f\"http://ec2-54-174-131-205.compute-1.amazonaws.com/API/HDRO_API.php/indicator_id=149406/year=2011\"\n",
    "response_HDRO = requests.get(urlHDRO)\n",
    "print(f\"HDRO: {response_HDRO}\")\n",
    "homelessJSON = response_HDRO.json()\n",
    "pp(homelessJSON)"
   ]
  },
  {
   "cell_type": "markdown",
   "metadata": {},
   "source": [
    "Extracting all earthquakes with magnitude higher than 5 (Intesity of VI) from 2010 to 2020"
   ]
  },
  {
   "cell_type": "code",
   "execution_count": 5,
   "metadata": {},
   "outputs": [
    {
     "name": "stdout",
     "output_type": "stream",
     "text": [
      "USGS: <Response [200]>\n"
     ]
    }
   ],
   "source": [
    "# Earthquakes > 5 from 2010 to 2020\n",
    "url_2010_2020_USGS = \"https://earthquake.usgs.gov/fdsnws/event/1/query.geojson?starttime=2010-01-01%2000:00:00&endtime=2020-12-31%2023:59:59&minmagnitude=5&orderby=time-asc\"\n",
    "response_USGS = requests.get(url_2010_2020_USGS)\n",
    "print(f\"USGS: {response_USGS}\")\n",
    "jsonUSGS2010_2020 = response_USGS.json()\n"
   ]
  },
  {
   "cell_type": "code",
   "execution_count": 6,
   "metadata": {},
   "outputs": [],
   "source": [
    "# pp(jsonUSGS2010_2020)"
   ]
  },
  {
   "cell_type": "markdown",
   "metadata": {},
   "source": [
    "Build barchart"
   ]
  },
  {
   "cell_type": "code",
   "execution_count": 60,
   "metadata": {},
   "outputs": [
    {
     "data": {
      "text/html": [
       "<div>\n",
       "<style scoped>\n",
       "    .dataframe tbody tr th:only-of-type {\n",
       "        vertical-align: middle;\n",
       "    }\n",
       "\n",
       "    .dataframe tbody tr th {\n",
       "        vertical-align: top;\n",
       "    }\n",
       "\n",
       "    .dataframe thead th {\n",
       "        text-align: right;\n",
       "    }\n",
       "</style>\n",
       "<table border=\"1\" class=\"dataframe\">\n",
       "  <thead>\n",
       "    <tr style=\"text-align: right;\">\n",
       "      <th></th>\n",
       "      <th>DATE</th>\n",
       "      <th>MAGNITUDE</th>\n",
       "    </tr>\n",
       "  </thead>\n",
       "  <tbody>\n",
       "    <tr>\n",
       "      <th>0</th>\n",
       "      <td>2010</td>\n",
       "      <td>5.0</td>\n",
       "    </tr>\n",
       "    <tr>\n",
       "      <th>1</th>\n",
       "      <td>2010</td>\n",
       "      <td>5.2</td>\n",
       "    </tr>\n",
       "    <tr>\n",
       "      <th>2</th>\n",
       "      <td>2010</td>\n",
       "      <td>5.0</td>\n",
       "    </tr>\n",
       "    <tr>\n",
       "      <th>3</th>\n",
       "      <td>2010</td>\n",
       "      <td>5.0</td>\n",
       "    </tr>\n",
       "    <tr>\n",
       "      <th>4</th>\n",
       "      <td>2010</td>\n",
       "      <td>5.2</td>\n",
       "    </tr>\n",
       "    <tr>\n",
       "      <th>...</th>\n",
       "      <td>...</td>\n",
       "      <td>...</td>\n",
       "    </tr>\n",
       "    <tr>\n",
       "      <th>19776</th>\n",
       "      <td>2020</td>\n",
       "      <td>5.7</td>\n",
       "    </tr>\n",
       "    <tr>\n",
       "      <th>19777</th>\n",
       "      <td>2020</td>\n",
       "      <td>5.0</td>\n",
       "    </tr>\n",
       "    <tr>\n",
       "      <th>19778</th>\n",
       "      <td>2020</td>\n",
       "      <td>5.0</td>\n",
       "    </tr>\n",
       "    <tr>\n",
       "      <th>19779</th>\n",
       "      <td>2020</td>\n",
       "      <td>5.1</td>\n",
       "    </tr>\n",
       "    <tr>\n",
       "      <th>19780</th>\n",
       "      <td>2020</td>\n",
       "      <td>5.2</td>\n",
       "    </tr>\n",
       "  </tbody>\n",
       "</table>\n",
       "<p>19781 rows × 2 columns</p>\n",
       "</div>"
      ],
      "text/plain": [
       "       DATE  MAGNITUDE\n",
       "0      2010        5.0\n",
       "1      2010        5.2\n",
       "2      2010        5.0\n",
       "3      2010        5.0\n",
       "4      2010        5.2\n",
       "...     ...        ...\n",
       "19776  2020        5.7\n",
       "19777  2020        5.0\n",
       "19778  2020        5.0\n",
       "19779  2020        5.1\n",
       "19780  2020        5.2\n",
       "\n",
       "[19781 rows x 2 columns]"
      ]
     },
     "execution_count": 60,
     "metadata": {},
     "output_type": "execute_result"
    }
   ],
   "source": [
    "earthquakes_row = []\n",
    "\n",
    "for earthquake in jsonUSGS2010_2020[\"features\"]:\n",
    "    ts = earthquake[\"properties\"][\"time\"]\n",
    "    mag = earthquake[\"properties\"][\"mag\"]\n",
    "    dt = datetime.utcfromtimestamp(int(ts)/1000)\n",
    "    # print(dt)\n",
    "    # print(dt.strftime(\"%Y-%m-%d %H:%M:%S\"))\n",
    "    earthquakes_row.append([dt.strftime(\"%Y\"), mag])\n",
    "\n",
    "dfEarthquakes = pd.DataFrame(earthquakes_row, columns = [\"DATE\", \"MAGNITUDE\"])\n",
    "dfEarthquakes\n",
    "    "
   ]
  },
  {
   "cell_type": "code",
   "execution_count": 63,
   "metadata": {},
   "outputs": [
    {
     "data": {
      "text/html": [
       "<div>\n",
       "<style scoped>\n",
       "    .dataframe tbody tr th:only-of-type {\n",
       "        vertical-align: middle;\n",
       "    }\n",
       "\n",
       "    .dataframe tbody tr th {\n",
       "        vertical-align: top;\n",
       "    }\n",
       "\n",
       "    .dataframe thead th {\n",
       "        text-align: right;\n",
       "    }\n",
       "</style>\n",
       "<table border=\"1\" class=\"dataframe\">\n",
       "  <thead>\n",
       "    <tr style=\"text-align: right;\">\n",
       "      <th></th>\n",
       "      <th>MAGNITUDE</th>\n",
       "    </tr>\n",
       "    <tr>\n",
       "      <th>DATE</th>\n",
       "      <th></th>\n",
       "    </tr>\n",
       "  </thead>\n",
       "  <tbody>\n",
       "    <tr>\n",
       "      <th>2010</th>\n",
       "      <td>2395</td>\n",
       "    </tr>\n",
       "    <tr>\n",
       "      <th>2011</th>\n",
       "      <td>2694</td>\n",
       "    </tr>\n",
       "    <tr>\n",
       "      <th>2012</th>\n",
       "      <td>1679</td>\n",
       "    </tr>\n",
       "    <tr>\n",
       "      <th>2013</th>\n",
       "      <td>1598</td>\n",
       "    </tr>\n",
       "    <tr>\n",
       "      <th>2014</th>\n",
       "      <td>1736</td>\n",
       "    </tr>\n",
       "    <tr>\n",
       "      <th>2015</th>\n",
       "      <td>1558</td>\n",
       "    </tr>\n",
       "    <tr>\n",
       "      <th>2016</th>\n",
       "      <td>1696</td>\n",
       "    </tr>\n",
       "    <tr>\n",
       "      <th>2017</th>\n",
       "      <td>1557</td>\n",
       "    </tr>\n",
       "    <tr>\n",
       "      <th>2018</th>\n",
       "      <td>1806</td>\n",
       "    </tr>\n",
       "    <tr>\n",
       "      <th>2019</th>\n",
       "      <td>1629</td>\n",
       "    </tr>\n",
       "    <tr>\n",
       "      <th>2020</th>\n",
       "      <td>1433</td>\n",
       "    </tr>\n",
       "  </tbody>\n",
       "</table>\n",
       "</div>"
      ],
      "text/plain": [
       "      MAGNITUDE\n",
       "DATE           \n",
       "2010       2395\n",
       "2011       2694\n",
       "2012       1679\n",
       "2013       1598\n",
       "2014       1736\n",
       "2015       1558\n",
       "2016       1696\n",
       "2017       1557\n",
       "2018       1806\n",
       "2019       1629\n",
       "2020       1433"
      ]
     },
     "execution_count": 63,
     "metadata": {},
     "output_type": "execute_result"
    }
   ],
   "source": [
    "dfEarthquakesByYear = dfEarthquakes.groupby([\"DATE\"]).count()\n",
    "dfEarthquakesByYear"
   ]
  },
  {
   "cell_type": "code",
   "execution_count": 77,
   "metadata": {},
   "outputs": [
    {
     "data": {
      "text/plain": [
       "Text(0, 0.5, 'EARTHQUAKES PER YEAR')"
      ]
     },
     "execution_count": 77,
     "metadata": {},
     "output_type": "execute_result"
    },
    {
     "data": {
      "image/png": "[encoded data removed]",
      "text/plain": [
       "<Figure size 432x288 with 1 Axes>"
      ]
     },
     "metadata": {
      "needs_background": "light"
     },
     "output_type": "display_data"
    }
   ],
   "source": [
    "ax = dfEarthquakesByYear.plot(kind=\"bar\", legend=False, title=\"Earthquakes with Mw > 5 from 2010 to 2020\")\n",
    "ax.set_xlabel(\"YEAR\")\n",
    "ax.set_ylabel(\"EARTHQUAKES PER YEAR\")"
   ]
  },
  {
   "cell_type": "markdown",
   "metadata": {},
   "source": [
    "NOTE: Plot all earthquakes magnitude >5 (2694 earthquakes) but only analyze earthquakes >6 (207 earthquakes)"
   ]
  },
  {
   "cell_type": "code",
   "execution_count": null,
   "metadata": {},
   "outputs": [],
   "source": [
    "# All earthquakes in 2011\n",
    "url_2011USGS = \"https://earthquake.usgs.gov/fdsnws/event/1/query.geojson?starttime=2011-01-01%2000:00:00&endtime=2011-12-31%2023:59:59&minmagnitude=5&orderby=time\"\n",
    "response_USGS = requests.get(url_2011USGS)\n",
    "print(f\"USGS: {response_USGS}\")\n",
    "jsonUSGS = response_USGS.json()\n",
    "pp(jsonUSGS)"
   ]
  },
  {
   "cell_type": "markdown",
   "metadata": {},
   "source": [
    "The table *countries* required the country code in 2-digits-alpha format, but raw data was provided in 3-digit-alpha format. The repository https://github.com/lukes/ISO-3166-Countries-with-Regional-Codes includes a ready-to-use csv file with both, 2- and 3-digit country codes. This table was used to convert between the 2 formats."
   ]
  },
  {
   "cell_type": "markdown",
   "metadata": {},
   "source": [
    "Reading the csv file with country code information. "
   ]
  },
  {
   "cell_type": "code",
   "execution_count": null,
   "metadata": {},
   "outputs": [],
   "source": [
    "import pandas as pd\n",
    "\n",
    "countryCodes_df = pd.read_csv(\"../../data/all.csv\")"
   ]
  },
  {
   "cell_type": "markdown",
   "metadata": {},
   "source": [
    "## Part 2: Cleaning the data\n",
    "**Actions taken to clean the csv file:**\n",
    "1. The only columns needed are *Country name*, *country code in 2-digit format*, and *country code in 3-digit format*.\n",
    "2. The 2-digit alpha code for country Namibia was missing, so the value was written manually."
   ]
  },
  {
   "cell_type": "code",
   "execution_count": null,
   "metadata": {},
   "outputs": [],
   "source": [
    "# countryCodes_df\n",
    "clean_cc_df = countryCodes_df.copy()[[\"name\", \"alpha-2\", \"alpha-3\"]]\n",
    "clean_cc_df['alpha-2'][153] = 'NA'\n",
    "clean_cc_df['alpha-2'][153]"
   ]
  },
  {
   "cell_type": "code",
   "execution_count": null,
   "metadata": {},
   "outputs": [],
   "source": [
    "clean_cc_df.to_csv(\"./output_data/clean_cc_df.csv\")"
   ]
  },
  {
   "cell_type": "markdown",
   "metadata": {},
   "source": [
    "Understanding the structure of the HDRO json file:"
   ]
  },
  {
   "cell_type": "code",
   "execution_count": null,
   "metadata": {
    "scrolled": true
   },
   "outputs": [],
   "source": [
    "df_HDRO = pd.read_json(url_HDRO)\n",
    "df_HDRO = df_HDRO.reset_index()\n",
    "df_HDRO"
   ]
  },
  {
   "cell_type": "markdown",
   "metadata": {},
   "source": [
    "Extracting the required values from the HDRO json file and saving them in a pandas dataframe using the try/except methods.\n",
    "\n",
    "A few number of countries couldn't be saved into the dataframe as some of the required values were missing (see print outputs)."
   ]
  },
  {
   "cell_type": "code",
   "execution_count": null,
   "metadata": {},
   "outputs": [],
   "source": [
    "clean_HDRO_df = pd.DataFrame(columns=['CountryName', 'CountryCode', 'HDI', \"TotalPopulation\"]) \n",
    "# clean_HDRO_df\n",
    "for index, country in df_HDRO.iterrows():\n",
    "    try:\n",
    "        value_totalPopulation = float(country[\"indicator_value\"]['44206']['2019'])\n",
    "        value_HDI = float(country[\"indicator_value\"]['137506']['2019'])\n",
    "        clean_HDRO_df = clean_HDRO_df.append([{\"CountryName\": country[\"country_name\"], \"CountryCode\": country[\"index\"], \"HDI\": value_HDI, \"TotalPopulation\": value_totalPopulation}], ignore_index=True)\n",
    "    except:\n",
    "        print(country[\"index\"], country[\"indicator_value\"])\n",
    "\n",
    "clean_HDRO_df\n"
   ]
  },
  {
   "cell_type": "code",
   "execution_count": null,
   "metadata": {},
   "outputs": [],
   "source": [
    "clean_HDRO_df.to_csv(\"./output_data/clean_HDRO_df.csv\")"
   ]
  },
  {
   "cell_type": "markdown",
   "metadata": {},
   "source": [
    "The df *countries* and the df *country codes* were merged through the 3-digit country code columns:"
   ]
  },
  {
   "cell_type": "code",
   "execution_count": null,
   "metadata": {},
   "outputs": [],
   "source": [
    "clean_HDRO_df = clean_HDRO_df.merge(clean_cc_df, left_on=\"CountryCode\", right_on=\"alpha-3\", how=\"inner\")\n",
    "clean_HDRO_df =clean_HDRO_df.drop([\"CountryCode\"], axis=1)\n"
   ]
  },
  {
   "cell_type": "markdown",
   "metadata": {},
   "source": [
    "**Final HDRO table**"
   ]
  },
  {
   "cell_type": "code",
   "execution_count": null,
   "metadata": {},
   "outputs": [],
   "source": [
    "clean_HDRO_df"
   ]
  },
  {
   "cell_type": "code",
   "execution_count": null,
   "metadata": {},
   "outputs": [],
   "source": [
    "clean_HDRO_df.to_csv(\"./output_data/clean_HDRO_df_MERGED.csv\")"
   ]
  },
  {
   "cell_type": "markdown",
   "metadata": {},
   "source": [
    "## Part 3: SQL database\n",
    "\n",
    "Importing required SQL Alchemy modules:"
   ]
  },
  {
   "cell_type": "code",
   "execution_count": null,
   "metadata": {},
   "outputs": [],
   "source": [
    "# Import SQL Alchemy\n",
    "from sqlalchemy import create_engine\n",
    "\n",
    "# Import module to create relationship patterns\n",
    "from sqlalchemy.orm import relationship\n",
    "\n",
    "# Import and establish Base for which classes will be constructed\n",
    "from sqlalchemy.ext.declarative import declarative_base\n",
    "Base = declarative_base()\n",
    "\n",
    "# Import modules to declare columns and column data types\n",
    "from sqlalchemy import Table, Column, Integer, String, Float, BigInteger, ForeignKey"
   ]
  },
  {
   "cell_type": "markdown",
   "metadata": {},
   "source": [
    "Creating *Countries* and *Earthquakes* classes:"
   ]
  },
  {
   "cell_type": "code",
   "execution_count": null,
   "metadata": {},
   "outputs": [],
   "source": [
    "# Create classes:\n",
    "# Countries & Earthquakes\n",
    "\n",
    "class Countries(Base):  #Parent\n",
    "    __tablename__ = 'countries'\n",
    "    # id = Column(Integer, primary_key=True)\n",
    "    CountryCode = Column(String(255), primary_key=True)\n",
    "    CountryName = Column(String(255))\n",
    "    Population = Column(Float)  # Millions\n",
    "    HDIndex = Column(Float) # Index\n",
    "    earthquake = relationship(\"Earthquakes\")\n",
    "\n",
    "class Earthquakes(Base):    #Child\n",
    "    __tablename__ = 'earthquakes'\n",
    "    # id = Column(Integer, primary_key=True)\n",
    "    EarthquakeID = Column(String(255), primary_key=True)\n",
    "    Latitude = Column(Float)\n",
    "    Longitude = Column(Float)\n",
    "    Depth = Column(Float)\n",
    "    DateTime = Column(BigInteger)\n",
    "    Magnitude = Column(Float)\n",
    "    # CountryCode = Column(String(255))   # Foreign Key?\n",
    "    country_id = Column(String(255), ForeignKey('countries.CountryCode'))\n",
    "    # parent = relationship(\"Countries\", back_populates=\"children\")\n",
    "\n",
    "\n",
    "# print(data_USGS[\"features\"])"
   ]
  },
  {
   "cell_type": "markdown",
   "metadata": {},
   "source": [
    "Since the GeoJson file doesn't provide the country name where each earthquake hit, reverse geocoding was implemented using the python library **reverse_geocoder** (https://github.com/thampiman/reverse-geocoder).\n",
    "\n",
    "The library **tqdm** provides a nice and ready-to-use progress bar."
   ]
  },
  {
   "cell_type": "code",
   "execution_count": null,
   "metadata": {},
   "outputs": [],
   "source": [
    "import reverse_geocoder as rg\n",
    "from time import sleep\n",
    "from tqdm.auto import tqdm"
   ]
  },
  {
   "cell_type": "markdown",
   "metadata": {},
   "source": [
    "The next block of code execute the following actions:\n",
    "1. Creating Database Connection\n",
    "2. Establishing connection to a sqlite database\n",
    "3. Creating countries and Earthquakes tables"
   ]
  },
  {
   "cell_type": "code",
   "execution_count": null,
   "metadata": {},
   "outputs": [],
   "source": [
    "# Create Database Connection\n",
    "# ---------------------------\n",
    "# Establish Connection\n",
    "engine = create_engine(\"sqlite:///project2_test.sqlite\")\n",
    "conn = engine.connect()\n",
    "\n",
    "# Create Countries and Earthquakes tables within the database\n",
    "Base.metadata.create_all(conn)\n",
    "\n",
    "# To push the objects made and query the server we use a Session object\n",
    "from sqlalchemy.orm import Session\n",
    "session = Session(bind=engine)"
   ]
  },
  {
   "cell_type": "markdown",
   "metadata": {},
   "source": [
    "Inserting entries to the Country table."
   ]
  },
  {
   "cell_type": "code",
   "execution_count": null,
   "metadata": {},
   "outputs": [],
   "source": [
    "for index, country in tqdm(clean_HDRO_df.iterrows(), total=len(clean_HDRO_df)):\n",
    "    # sleep(0.1)\n",
    "    try:\n",
    "        # Add new_country to the current session\n",
    "        new_country = Countries(CountryCode=country[\"alpha-2\"],CountryName=country[\"CountryName\"],Population=country[\"TotalPopulation\"],HDIndex=country[\"HDI\"])\n",
    "        session.add(new_country)\n",
    "\n",
    "        # Commit objects to the database\n",
    "        session.commit()\n",
    "    except:\n",
    "        print(country[\"alpha-2\"], country[\"CountryName\"], country[\"TotalPopulation\"], country[\"HDI\"])\n"
   ]
  },
  {
   "cell_type": "markdown",
   "metadata": {},
   "source": [
    "Inserting entries to the Earthquake table (Reverse geocoding is used here) and after completion closing the connection to the sqlite database."
   ]
  },
  {
   "cell_type": "code",
   "execution_count": null,
   "metadata": {},
   "outputs": [],
   "source": [
    "cont=1\n",
    "# Create specific instances of the Countries and Earthquakes classes\n",
    "for earthquake in tqdm(data_USGS[\"features\"], total=len(data_USGS[\"features\"])):\n",
    "    # sleep(0.1)\n",
    "\n",
    "    if cont<=10:\n",
    "        try:\n",
    "            lon = earthquake[\"geometry\"][\"coordinates\"][0]\n",
    "            lat = earthquake[\"geometry\"][\"coordinates\"][1]\n",
    "            depth1 = earthquake[\"geometry\"][\"coordinates\"][2]\n",
    "            mag = earthquake[\"properties\"][\"mag\"]\n",
    "            datetime1 = earthquake[\"properties\"][\"time\"]\n",
    "            ctry_code = rg.search((lat,lon))[0][\"cc\"]\n",
    "            new_earthquake = Earthquakes(EarthquakeID=earthquake[\"id\"], Longitude=lon, Latitude=lat, Depth=depth1, DateTime=datetime1, Magnitude=mag, country_id=ctry_code)\n",
    "\n",
    "            # Add new_earthquake to the current session\n",
    "            session.add(new_earthquake)\n",
    "\n",
    "            # Commit objects to the database\n",
    "            session.commit()\n",
    "            \n",
    "        except:\n",
    "            print(f\"{earthquake['id']}, {lon}, {lat}, {depth1}, {earthquake['properties']['time']}, {ctry_code}\")\n",
    "        \n",
    "        cont += 1\n",
    "    else:\n",
    "        break\n",
    "\n",
    "\n",
    "conn.close()\n",
    "engine.dispose()"
   ]
  },
  {
   "cell_type": "code",
   "execution_count": null,
   "metadata": {},
   "outputs": [],
   "source": [
    "print(\"DATABASE COMPLETED\")"
   ]
  }
 ],
 "metadata": {
  "kernelspec": {
   "display_name": "Python 3",
   "language": "python",
   "name": "python3"
  },
  "language_info": {
   "codemirror_mode": {
    "name": "ipython",
    "version": 3
   },
   "file_extension": ".py",
   "mimetype": "text/x-python",
   "name": "python",
   "nbconvert_exporter": "python",
   "pygments_lexer": "ipython3",
   "version": "3.7.11"
  }
 },
 "nbformat": 4,
 "nbformat_minor": 4
}
